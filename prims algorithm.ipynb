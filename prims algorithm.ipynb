{
 "cells": [
  {
   "cell_type": "code",
   "execution_count": 14,
   "id": "c2529f8d",
   "metadata": {},
   "outputs": [
    {
     "name": "stdout",
     "output_type": "stream",
     "text": [
      "0-2:5\n",
      "\n",
      "2-3:1\n",
      "\n",
      "3-4:1\n",
      "\n",
      "4-1:2\n",
      "\n"
     ]
    }
   ],
   "source": [
    "def algorithm():\n",
    "    Graph = [\n",
    "        [0,19,5,0,0],\n",
    "        [19,0,5,9,2],\n",
    "        [5,5,0,1,6],\n",
    "        [0,9,1,0,1],\n",
    "        [0,2,6,1,0]\n",
    "    ]\n",
    "\n",
    "    infinity = 99999\n",
    "    no = len(Graph)#no. of nodes\n",
    "\n",
    "    selected_Node = [0,0,0,0,0]\n",
    "    selected_Node[0] = True\n",
    "    \n",
    "    minimum = infinity\n",
    "    a = 0\n",
    "    b = 0\n",
    "\n",
    "    for i in range(no):\n",
    "        minimum = infinity\n",
    "        if selected_Node[i]:\n",
    "            for j in range(no):\n",
    "                if(not selected_Node[j] and Graph[i][j]):\n",
    "                    if (minimum >= Graph[i][j]):\n",
    "                        minimum = Graph[i][j]\n",
    "                        a = i\n",
    "                        b = j\n",
    "                        \n",
    "            print(\"{}-{}:{}\".format(a,b,minimum))\n",
    "            selected_Node[b] = True\n",
    "            print()\n",
    "\n",
    "algorithm()\n",
    "    "
   ]
  },
  {
   "cell_type": "code",
   "execution_count": null,
   "id": "f051469e",
   "metadata": {},
   "outputs": [],
   "source": []
  }
 ],
 "metadata": {
  "kernelspec": {
   "display_name": "Python 3 (ipykernel)",
   "language": "python",
   "name": "python3"
  },
  "language_info": {
   "codemirror_mode": {
    "name": "ipython",
    "version": 3
   },
   "file_extension": ".py",
   "mimetype": "text/x-python",
   "name": "python",
   "nbconvert_exporter": "python",
   "pygments_lexer": "ipython3",
   "version": "3.10.9"
  }
 },
 "nbformat": 4,
 "nbformat_minor": 5
}
